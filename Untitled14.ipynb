{
  "nbformat": 4,
  "nbformat_minor": 0,
  "metadata": {
    "colab": {
      "provenance": [],
      "authorship_tag": "ABX9TyOzKQSdG+hJLUOANHg+R6MS",
      "include_colab_link": true
    },
    "kernelspec": {
      "name": "python3",
      "display_name": "Python 3"
    },
    "language_info": {
      "name": "python"
    }
  },
  "cells": [
    {
      "cell_type": "markdown",
      "metadata": {
        "id": "view-in-github",
        "colab_type": "text"
      },
      "source": [
        "<a href=\"https://colab.research.google.com/github/Amruthavalli19/KILL/blob/main/Untitled14.ipynb\" target=\"_parent\"><img src=\"https://colab.research.google.com/assets/colab-badge.svg\" alt=\"Open In Colab\"/></a>"
      ]
    },
    {
      "cell_type": "code",
      "execution_count": 1,
      "metadata": {
        "id": "Qfl8Dt5bdGhe",
        "outputId": "bfa18021-efa5-45a0-e5d7-4c82bb3bdc58",
        "colab": {
          "base_uri": "https://localhost:8080/"
        }
      },
      "outputs": [
        {
          "output_type": "stream",
          "name": "stdout",
          "text": [
            "✅ Model saved as 'model.pkl' successfully!\n"
          ]
        }
      ],
      "source": [
        "import pickle\n",
        "import pandas as pd\n",
        "import numpy as np\n",
        "from sklearn.model_selection import train_test_split\n",
        "from sklearn.preprocessing import LabelEncoder, StandardScaler\n",
        "from sklearn.ensemble import RandomForestClassifier\n",
        "\n",
        "# Load Dataset (Modify the path if needed)\n",
        "file_path = \"/content/MentalHealthSurvey.csv\"\n",
        "df = pd.read_csv(file_path)\n",
        "\n",
        "# Data Preprocessing (Modify this based on your dataset)\n",
        "df.drop(columns=['university', 'degree_major', 'stress_relief_activities'], inplace=True)\n",
        "\n",
        "# Convert CGPA ranges to numerical values\n",
        "cgpa_mapping = {\n",
        "    'Below 2.0': 1.5, '2.0-2.5': 2.25, '2.5-3.0': 2.75,\n",
        "    '3.0-3.5': 3.25, '3.5-4.0': 3.75, '4.0': 4.0\n",
        "}\n",
        "df['cgpa'] = df['cgpa'].map(cgpa_mapping)\n",
        "\n",
        "# Encode categorical variables\n",
        "label_enc = LabelEncoder()\n",
        "for col in df.select_dtypes(include=['object']).columns:\n",
        "    df[col] = label_enc.fit_transform(df[col])\n",
        "\n",
        "# Define features and target\n",
        "target_column = 'depression'  # Change if needed\n",
        "X = df.drop(columns=[target_column])\n",
        "y = df[target_column]\n",
        "\n",
        "# Train-test split\n",
        "X_train, X_test, y_train, y_test = train_test_split(X, y, test_size=0.2, random_state=42)\n",
        "\n",
        "# Scale the data\n",
        "scaler = StandardScaler()\n",
        "X_train = scaler.fit_transform(X_train)\n",
        "X_test = scaler.transform(X_test)\n",
        "\n",
        "# Train the model\n",
        "model = RandomForestClassifier(n_estimators=100, random_state=42)\n",
        "model.fit(X_train, y_train)\n",
        "\n",
        "# ✅ Save the model\n",
        "with open(\"model.pkl\", \"wb\") as f:\n",
        "    pickle.dump(model, f)\n",
        "\n",
        "print(\"✅ Model saved as 'model.pkl' successfully!\")\n"
      ]
    }
  ]
}